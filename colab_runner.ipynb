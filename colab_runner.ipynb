{
  "nbformat": 4,
  "nbformat_minor": 0,
  "metadata": {
    "colab": {
      "provenance": [],
      "collapsed_sections": [
        "Th_mCpdgrB0w",
        "QWd-UVKmXIeE",
        "x_q6_op9XLJY",
        "5gcxDePHXOpW",
        "976SiRBSXS5U",
        "lXY0vkIIXb_T",
        "NZtv4jK2pcCg",
        "Ygk-NAvjbADZ",
        "-L_vbFeEwLH0",
        "rD-i3_MTwP8l",
        "7OQ9mDaBYL_f",
        "49GL2sF8ZOn9",
        "fxl5hxJMsK0m",
        "g8dcEAJTJT6_",
        "nTD7jNTxscOW",
        "CNHw6z9zaMA-"
      ]
    },
    "kernelspec": {
      "name": "python3",
      "display_name": "Python 3"
    },
    "language_info": {
      "name": "python"
    }
  },
  "cells": [
    {
      "cell_type": "markdown",
      "source": [
        "## Set Up"
      ],
      "metadata": {
        "id": "Th_mCpdgrB0w"
      }
    },
    {
      "cell_type": "markdown",
      "source": [
        "### Dependencies"
      ],
      "metadata": {
        "id": "n3fOrLcRWueV"
      }
    },
    {
      "cell_type": "code",
      "source": [
        "# Installing missing dependencies\n",
        "!pip install omegaconf coloredlogs wandb"
      ],
      "metadata": {
        "id": "rN59kKZcWxjx"
      },
      "execution_count": null,
      "outputs": []
    },
    {
      "cell_type": "markdown",
      "source": [
        "### Clean everything"
      ],
      "metadata": {
        "id": "QWd-UVKmXIeE"
      }
    },
    {
      "cell_type": "code",
      "source": [
        "# Removes the GitHub repository\n",
        "!rm -rf aml23-ego"
      ],
      "metadata": {
        "id": "qmjKz7KloChT"
      },
      "execution_count": null,
      "outputs": []
    },
    {
      "cell_type": "code",
      "source": [
        "# Removes the Epic Kitchens frames\n",
        "!rm -rf ek_data"
      ],
      "metadata": {
        "id": "Q6bjT78l78Vj"
      },
      "execution_count": null,
      "outputs": []
    },
    {
      "cell_type": "markdown",
      "source": [
        "### Clone GitHub repository"
      ],
      "metadata": {
        "id": "x_q6_op9XLJY"
      }
    },
    {
      "cell_type": "code",
      "execution_count": null,
      "metadata": {
        "id": "KsM0ndCdEvLN"
      },
      "outputs": [],
      "source": [
        "# Clone the GitHub repository\n",
        "!git clone https://github.com/RONDEL-Ewen/aml23-ego.git aml23-ego"
      ]
    },
    {
      "cell_type": "markdown",
      "source": [
        "### Mount Google Drive"
      ],
      "metadata": {
        "id": "5gcxDePHXOpW"
      }
    },
    {
      "cell_type": "code",
      "source": [
        "# Mount the Google Drive\n",
        "from google.colab import drive\n",
        "drive.mount('/content/drive')"
      ],
      "metadata": {
        "id": "IgHiv_aePTlM"
      },
      "execution_count": null,
      "outputs": []
    },
    {
      "cell_type": "markdown",
      "source": [
        "### Unzip Epic Kitchens frames"
      ],
      "metadata": {
        "id": "976SiRBSXS5U"
      }
    },
    {
      "cell_type": "code",
      "source": [
        "%%bash\n",
        "\n",
        "# As read and write operations from google drive are slow, we suggest to copy and unzip\n",
        "# the dataset in a local directory on the Colab's machine.\n",
        "mkdir -p ek_data/frames\n",
        "\n",
        "# Copy the *.zip files of Epic-Kitchens\n",
        "cp /content/drive/MyDrive/EPIC-Kitchens-P08/*.zip ./ek_data\n",
        "\n",
        "# Unzip and remove the original .zip files\n",
        "for file in ./ek_data/*.zip; do\n",
        "  fn=$(basename $file)\n",
        "  fn=${fn/.zip/}\n",
        "  ls -lah $file\n",
        "  mkdir -p ek_data/frames/$fn\n",
        "  unzip $file -d ek_data/frames/$fn\n",
        "  rm $file  # Remove the original .zip file after extraction\n",
        "done"
      ],
      "metadata": {
        "id": "pN-AK2V35aUf"
      },
      "execution_count": null,
      "outputs": []
    },
    {
      "cell_type": "markdown",
      "source": [
        "## Extract RGB features with I3D model"
      ],
      "metadata": {
        "id": "lXY0vkIIXb_T"
      }
    },
    {
      "cell_type": "code",
      "source": [
        "%%bash\n",
        "\n",
        "# Replace the following path with the path of your codebase\n",
        "cd aml23-ego\n",
        "\n",
        "python save_feat.py name=I3D_features_25_dense \\\n",
        "  config=configs/I3D_save_feat.yaml \\\n",
        "  dataset.shift=D1-D1 \\\n",
        "  dataset.RGB.data_path=../ek_data/frames"
      ],
      "metadata": {
        "id": "iJWkd_CAPTrr"
      },
      "execution_count": null,
      "outputs": []
    },
    {
      "cell_type": "markdown",
      "source": [
        "## RGB Features Clustering"
      ],
      "metadata": {
        "id": "NZtv4jK2pcCg"
      }
    },
    {
      "cell_type": "code",
      "source": [
        "%%bash\n",
        "\n",
        "cd aml23-ego\n",
        "\n",
        "features_path='./saved_features/I3D_features_5_dense_D1_test.pkl'\n",
        "labels_path='./train_val/D1_test.pkl'\n",
        "\n",
        "python features_pattern_using_cluster.py \"$features_path\" \"$labels_path\""
      ],
      "metadata": {
        "colab": {
          "base_uri": "https://localhost:8080/"
        },
        "id": "UhSA_HwEdu7o",
        "outputId": "4c464f91-7043-40b4-a1c6-cea921cb1d4b"
      },
      "execution_count": null,
      "outputs": [
        {
          "output_type": "stream",
          "name": "stdout",
          "text": [
            "Cluster 0:\n",
            "  - mix egg in rice\n",
            "  - pace curry in pot\n",
            "  - rinse knife\n",
            "  - wipe hands\n",
            "  - close\n",
            "  - put avocado in plastic bag\n",
            "  - get mint leaves\n",
            "  - stirring rice\n",
            "  - open dishwasher\n",
            "  - place both plastic bags\n",
            "  - clean filter\n",
            "  - wash tomatoes\n",
            "  - place chopping board over sink\n",
            "  - place bread\n",
            "  - pour soy sauce\n",
            "  - still mix food in pan\n",
            "  - place cheese\n",
            "  - put corn in pan\n",
            "  - place pan on sink\n",
            "  - get knife\n",
            "  - take access water out\n",
            "  - pour water over chopping board\n",
            "  - place scissors in drawer\n",
            "  - wash leaves\n",
            "  - take the bread\n",
            "  - get meat\n",
            "  - get bowl\n",
            "  - get kitchen towel\n",
            "  - close washing machine\n",
            "  - place sponge\n",
            "  - pour cooked rice in pan\n",
            "  - get milk\n",
            "  - place plate\n",
            "  - open cupboard\n",
            "  - get sponge\n",
            "  - put tap water\n",
            "  - place fork\n",
            "  - place spoon back\n",
            "  - place sponge back\n",
            "  - wash hands\n",
            "  - place lid on pan\n",
            "  - clean colander\n",
            "  - clean pan\n",
            "  - clean counter\n",
            "  - wash chopping board with sponge\n",
            "  - clean coffee filter\n",
            "  - get vegetable rice\n",
            "  - pour whisked egg\n",
            "  - wipe off kitchen\n",
            "  - get garlic\n",
            "  - put back soy sauce\n",
            "  - get pan\n",
            "  - clean upper part of pot\n",
            "  - place salt\n",
            "  - place fridge\n",
            "  - place bowl\n",
            "  - place jar in cupboard\n",
            "  - place pan\n",
            "  - place tap\n",
            "  - get chopping board\n",
            "  - clean sink\n",
            "  - get fork\n",
            "  - take lid off\n",
            "  - cut lemon slice\n",
            "  - place colander\n",
            "  - put bell pepper in pan\n",
            "  - place chopping board\n",
            "  - place lid back on pan\n",
            "  - pour oil in pan\n",
            "  - put dish liquid\n",
            "  - place milk\n",
            "  - get mocha pot\n",
            "  - place lid\n",
            "  - close cupboard\n",
            "  - clean rice\n",
            "  - clean cupboard\n",
            "  - mix twice in pan\n",
            "  - wipe off filter\n",
            "  - get coffee\n",
            "  - close hob\n",
            "  - pour water\n",
            "  - mix garlic in pan\n",
            "  - take pan\n",
            "  - open cooker\n",
            "  - place pot\n",
            "  - place spice\n",
            "  - pour rice in pan\n",
            "  - place on plate\n",
            "  - place filter\n",
            "  - get rice\n",
            "  - place pan on\n",
            "  - wash knife\n",
            "  - place mint\n",
            "  - put tomatoes in pan\n",
            "  - wash chopping board\n",
            "  - put curry in pan\n",
            "  - get water\n",
            "  - get bread\n",
            "  - place spoon\n",
            "  - place kettle\n",
            "  - place bowl in sink\n",
            "  - mix food in pan\n",
            "  - open fridge\n",
            "  - wipe off sink\n",
            "  - clean mocha\n",
            "  - place pan on hob\n",
            "  - close lid\n",
            "  - place garlic in pan\n",
            "  - place kettle back\n",
            "  - close dishwasher\n",
            "  - mix oil\n",
            "  - get cheese\n",
            "  - mix contents of pan\n",
            "  - get spoon\n",
            "  - mix egg\n",
            "  - close fridge\n",
            "  - get kettle\n",
            "  - mix rice in pan\n",
            "  - clean sponge\n",
            "  - place lid on\n",
            "  - put kettle back\n",
            "  - placing lid\n",
            "  - get soy sauce\n",
            "  - rinse pan\n",
            "  - close drawer\n",
            "  - pour olive oil in pan\n",
            "  - clean pot\n",
            "  - get pot\n",
            "  - pour water over sponge\n",
            "  - clean counter top\n",
            "  - get lemon\n",
            "  - pour hot water\n",
            "  - wipe off pan\n",
            "  - open lid\n",
            "  - clean kitchen sink\n",
            "  - place knife\n",
            "  - get jasmine rice\n",
            "  - placing spoon\n",
            "  - clean upper part\n",
            "  - place plates\n",
            "  - get leaves out\n",
            "  - wipe off hands\n",
            "  - wipe knife\n",
            "  - get mug\n",
            "  - pour pepper\n",
            "  - open drawer\n",
            "  - get moka pot\n",
            "  - get filter\n",
            "  - close water\n",
            "Cluster 1:\n",
            "  - get spoon\n",
            "  - close fridge\n",
            "  - place milk\n",
            "  - wipe hands\n",
            "  - wipe of hands\n",
            "  - get plate\n",
            "  - place chopping board on top\n",
            "  - get plastic bag\n",
            "  - place curry in pan\n",
            "  - close cupboard\n",
            "  - get the leaves\n",
            "  - slice lemon\n",
            "  - open it\n",
            "  - open microwave\n",
            "  - get soy sauce\n",
            "  - put back\n",
            "  - mix oil and curry in pan\n",
            "  - pour olive oil in pan\n",
            "  - get olive oil\n",
            "  - place curry in pot\n",
            "  - pour rice in pan\n",
            "  - get chopping board and knife\n",
            "  - clean counter top\n",
            "  - get lemon\n",
            "  - pour curry in bag\n",
            "  - close plastic bag\n",
            "  - place meat in pan\n",
            "  - get jar\n",
            "  - place bottle\n",
            "  - open fridge\n",
            "  - get oil\n",
            "  - place pepper shaker\n",
            "  - get pan\n",
            "  - place bag\n",
            "  - place plastic bag\n",
            "  - place bowl\n",
            "  - cut plastic bag\n",
            "  - get scissors\n",
            "  - get bowl\n",
            "  - place back pepper shaker\n",
            "  - close lid\n",
            "  - wipe off hands\n",
            "  - place mug\n",
            "  - close microwave oven\n",
            "  - place pan on counter top\n",
            "  - place pan\n",
            "  - get curry\n",
            "  - mix curry with oil\n",
            "  - get colander\n",
            "  - take olive oil\n",
            "  - pour milk in mug\n",
            "  - place pot on hob\n",
            "  - open cupboard\n",
            "  - get mug\n",
            "  - open curry lid\n",
            "  - open drawer\n",
            "  - wipe off scissors\n",
            "  - get chopping board\n",
            "  - place mug on counter\n",
            "  - place fork\n",
            "  - mix around in pan the meat\n",
            "Cluster 2:\n",
            "  - get tomatoes\n",
            "  - get eggs\n",
            "Cluster 3:\n",
            "  - get chilli\n",
            "  - place avocado on bread\n",
            "  - get cheese on knife\n",
            "  - close fridge\n",
            "  - cut tomato\n",
            "  - get plate\n",
            "  - close cupboard\n",
            "  - put chilli on avocado\n",
            "  - clean knife\n",
            "  - get tomato\n",
            "  - place chilli on avocado\n",
            "  - place on plate\n",
            "  - pour tomatoes on avocado bread\n",
            "  - cut avocado\n",
            "  - get salt\n",
            "  - get avocado\n",
            "  - place bread on pan\n",
            "  - open lid\n",
            "  - open fridge\n",
            "  - pour coffee in mug\n",
            "  - close lid\n",
            "  - wipe off hands\n",
            "  - put cheese on bread\n",
            "  - place plate\n",
            "  - open cupboard\n",
            "  - get fork\n",
            "Cluster 4:\n",
            "  - take knife\n",
            "  - get lemon\n",
            "  - close plastic bag\n",
            "  - cut tomatoes\n",
            "  - wipe off hands\n",
            "  - get garlic\n",
            "  - wipe off knife\n",
            "  - place spoon\n",
            "  - get loaf of bread\n",
            "  - get seeds out\n",
            "  - get plastic bag\n",
            "  - close bread plastic bag\n",
            "  - get fork\n",
            "  - place garlic on chopping board\n",
            "  - still cut tomatoes\n",
            "  - wipe off\n",
            "  - take spoon\n",
            "Cluster 5:\n",
            "  - get frying pan\n",
            "  - put pan back\n",
            "  - get lid\n",
            "  - get pan\n",
            "Cluster 6:\n",
            "  - clean meat\n",
            "  - still clean meat\n",
            "  - place bowl\n",
            "Cluster 7:\n",
            "  - get the wooden device\n",
            "  - get spoon\n",
            "  - get wooden spoon\n",
            "Cluster 8:\n",
            "  - open dishwasher\n",
            "  - open drawer\n",
            "  - place bowl\n",
            "Cluster 9:\n",
            "  - take bowl\n",
            "  - close fridge\n",
            "  - open fridge\n",
            "  - whisk eggs\n",
            "  - get wrap\n",
            "Cluster 10:\n",
            "  - get salad bowl\n",
            "  - put spinach leaves on plate\n",
            "  - close wrap\n",
            "Figure(640x480)\n"
          ]
        }
      ]
    },
    {
      "cell_type": "markdown",
      "source": [
        "To see the plot, run directly features_pattern_using_cluster.py in your IDE / own environment (it is not shown on Google Colab)."
      ],
      "metadata": {
        "id": "bbqqlHBXvjFS"
      }
    },
    {
      "cell_type": "markdown",
      "source": [
        "## RGB Features Classifying"
      ],
      "metadata": {
        "id": "Ygk-NAvjbADZ"
      }
    },
    {
      "cell_type": "markdown",
      "source": [
        "### Multi-Layer Perceptron Classifier"
      ],
      "metadata": {
        "id": "-L_vbFeEwLH0"
      }
    },
    {
      "cell_type": "code",
      "source": [
        "%%bash\n",
        "\n",
        "cd aml23-ego\n",
        "\n",
        "python train_classifier.py name=mlp_training \\\n",
        "  config=configs/default.yaml \\\n",
        "  action=train \\\n",
        "  models_dir=models \\\n",
        "  train.num_iter=5000 \\\n",
        "  train.lr_steps=3000 \\\n",
        "  train.num_frames_per_clip.RGB=25 \\\n",
        "  dataset.shift=D1-D1 \\\n",
        "  dataset.RGB.data_path=saved_features \\\n",
        "  dataset.RGB.features_name=I3D_features_25_dense \\\n",
        "  models.RGB.model=MLPClassifier"
      ],
      "metadata": {
        "id": "vGIXTTSYxMEC"
      },
      "execution_count": null,
      "outputs": []
    },
    {
      "cell_type": "code",
      "source": [
        "%%bash\n",
        "\n",
        "cd aml23-ego\n",
        "\n",
        "python train_classifier.py name=mlp_test \\\n",
        "  config=configs/default.yaml \\\n",
        "  action=test \\\n",
        "  models_dir=models \\\n",
        "  test.num_frames_per_clip.RGB=5 \\\n",
        "  dataset.shift=D1-D1 \\\n",
        "  dataset.RGB.data_path=saved_features \\\n",
        "  dataset.RGB.features_name=I3D_features_5_dense \\\n",
        "  models.RGB.model=MLPClassifier"
      ],
      "metadata": {
        "id": "29H75nkNN634"
      },
      "execution_count": null,
      "outputs": []
    },
    {
      "cell_type": "markdown",
      "source": [
        "### Long Short-Term Memory Classifier"
      ],
      "metadata": {
        "id": "rD-i3_MTwP8l"
      }
    },
    {
      "cell_type": "code",
      "source": [
        "%%bash\n",
        "\n",
        "cd aml23-ego\n",
        "\n",
        "python train_classifier.py name=lstm_test \\\n",
        "  config=configs/default.yaml \\\n",
        "  action=test \\\n",
        "  models_dir=models \\\n",
        "  train.num_frames_per_clip.RGB=5 \\\n",
        "  dataset.shift=D1-D1 \\\n",
        "  dataset.RGB.data_path=saved_features \\\n",
        "  dataset.RGB.features_name=I3D_features_5_dense \\\n",
        "  models.RGB.model=LSTMClassifier"
      ],
      "metadata": {
        "id": "q4_B2rwV4Qsm"
      },
      "execution_count": null,
      "outputs": []
    },
    {
      "cell_type": "code",
      "source": [
        "%%bash\n",
        "\n",
        "cd aml23-ego\n",
        "\n",
        "python train_classifier.py name=lstm_training \\\n",
        "  config=configs/default.yaml \\\n",
        "  action=train \\\n",
        "  models_dir=models \\\n",
        "  train.num_frames_per_clip.RGB=5 \\\n",
        "  dataset.shift=D1-D1 \\\n",
        "  dataset.RGB.data_path=saved_features \\\n",
        "  dataset.RGB.features_name=I3D_features_5_dense \\\n",
        "  models.RGB.model=LSTMClassifier"
      ],
      "metadata": {
        "id": "u3upQrdCrc9x"
      },
      "execution_count": null,
      "outputs": []
    },
    {
      "cell_type": "markdown",
      "source": [
        "## Extract right/left EMG data"
      ],
      "metadata": {
        "id": "7OQ9mDaBYL_f"
      }
    },
    {
      "cell_type": "code",
      "source": [
        "%%bash\n",
        "\n",
        "cd aml23-ego\n",
        "\n",
        "python extract_emg.py source_filepath=../drive/MyDrive/emg_data/2022-06-14_16-38-43_streamLog_actionNet-wearables_S04.hdf5 \\\n",
        "  left_filepath=./S04/emg_data/S04_left.pkl \\\n",
        "  right_filepath=./S04/emg_data/S04_right.pkl"
      ],
      "metadata": {
        "id": "Ob_SiFclYQWC"
      },
      "execution_count": null,
      "outputs": []
    },
    {
      "cell_type": "markdown",
      "source": [
        "## Extract frames from videos"
      ],
      "metadata": {
        "id": "49GL2sF8ZOn9"
      }
    },
    {
      "cell_type": "code",
      "source": [
        "%%bash\n",
        "\n",
        "cd aml23-ego\n",
        "\n",
        "# Vidéo 1\n",
        "python extract_frames.py video_path=../drive/MyDrive/S04/PG1_2022-06-14-16-36-51.avi \\\n",
        "  frames_folder=./S04/frames/PG1/"
      ],
      "metadata": {
        "id": "c0FXCPcHZSUF"
      },
      "execution_count": null,
      "outputs": []
    },
    {
      "cell_type": "code",
      "source": [
        "%%bash\n",
        "\n",
        "cd aml23-ego\n",
        "\n",
        "# Vidéo 2\n",
        "python extract_frames.py video_path=../drive/MyDrive/S04/PG2_2022-06-14-16-36-51.avi \\\n",
        "  frames_folder=./S04/frames/PG2/"
      ],
      "metadata": {
        "id": "0ZaIs0inbPzi"
      },
      "execution_count": null,
      "outputs": []
    },
    {
      "cell_type": "code",
      "source": [
        "%%bash\n",
        "\n",
        "cd aml23-ego\n",
        "\n",
        "# Vidéo 3\n",
        "python extract_frames.py video_path=../drive/MyDrive/S04/PG3_2022-06-14-16-36-51.avi \\\n",
        "  frames_folder=./S04/frames/PG3/"
      ],
      "metadata": {
        "id": "uZ2FtIIrbPjZ"
      },
      "execution_count": null,
      "outputs": []
    },
    {
      "cell_type": "code",
      "source": [
        "%%bash\n",
        "\n",
        "cd aml23-ego\n",
        "\n",
        "# Vidéo 4\n",
        "python extract_frames.py video_path=../drive/MyDrive/S04/PG4_2022-06-14-16-36-51.avi \\\n",
        "  frames_folder=./S04/frames/PG4/"
      ],
      "metadata": {
        "id": "eQfIxbxvbPKO"
      },
      "execution_count": null,
      "outputs": []
    },
    {
      "cell_type": "code",
      "source": [
        "%%bash\n",
        "\n",
        "cd aml23-ego\n",
        "\n",
        "# Vidéo 5\n",
        "python extract_frames.py video_path=../drive/MyDrive/S04/PG5_2022-06-14-16-36-51.avi \\\n",
        "  frames_folder=./S04/frames/PG5/"
      ],
      "metadata": {
        "id": "tbC00vePbOQE"
      },
      "execution_count": null,
      "outputs": []
    },
    {
      "cell_type": "code",
      "source": [
        "# To check if everything worked well\n",
        "import os\n",
        "\n",
        "frames_folder = '/content/aml23-ego/S04/frames/PG5/'\n",
        "\n",
        "frames_number = len([name for name in os.listdir(frames_folder) if os.path.isfile(os.path.join(frames_folder, name))])\n",
        "print(f\"Number of frames: {frames_number}\")\n",
        "\n",
        "with open('/content/aml23-ego/S04/frames/PG5/timestamps.txt', 'r') as file:\n",
        "    lines_number = 0\n",
        "    for line in file:\n",
        "        lines_number += 1\n",
        "print(f\"Number of timestamps : {lines_number}\")\n"
      ],
      "metadata": {
        "id": "DnOjcu7WJUfH"
      },
      "execution_count": null,
      "outputs": []
    },
    {
      "cell_type": "markdown",
      "source": [
        "## Pair frames and timestamps"
      ],
      "metadata": {
        "id": "fxl5hxJMsK0m"
      }
    },
    {
      "cell_type": "code",
      "source": [
        "%%bash\n",
        "\n",
        "cd aml23-ego\n",
        "\n",
        "python pair_frames_timestamps.py frames_dir=./S04/frames \\\n",
        "  video=/PG1 \\\n",
        "  timestamps_file=/PG1/timestamps.txt \\\n",
        "  output_file=PG1_frames_timestamps.pkl"
      ],
      "metadata": {
        "id": "T3iPtvKnT-1L"
      },
      "execution_count": null,
      "outputs": []
    },
    {
      "cell_type": "code",
      "source": [
        "%%bash\n",
        "\n",
        "cd aml23-ego\n",
        "\n",
        "python pair_frames_timestamps.py frames_dir=./S04/frames \\\n",
        "  video=/PG2 \\\n",
        "  timestamps_file=/PG2/timestamps.txt \\\n",
        "  output_file=PG2_frames_timestamps.pkl"
      ],
      "metadata": {
        "id": "9f8kUH5Ngyrm"
      },
      "execution_count": null,
      "outputs": []
    },
    {
      "cell_type": "code",
      "source": [
        "%%bash\n",
        "\n",
        "cd aml23-ego\n",
        "\n",
        "python pair_frames_timestamps.py frames_dir=./S04/frames \\\n",
        "  video=/PG3 \\\n",
        "  timestamps_file=/PG3/timestamps.txt \\\n",
        "  output_file=PG3_frames_timestamps.pkl"
      ],
      "metadata": {
        "id": "e3R5RjqRgySS"
      },
      "execution_count": null,
      "outputs": []
    },
    {
      "cell_type": "code",
      "source": [
        "%%bash\n",
        "\n",
        "cd aml23-ego\n",
        "\n",
        "python pair_frames_timestamps.py frames_dir=./S04/frames \\\n",
        "  video=/PG4 \\\n",
        "  timestamps_file=/PG4/timestamps.txt \\\n",
        "  output_file=PG4_frames_timestamps.pkl"
      ],
      "metadata": {
        "id": "O-R94vFKg0JF"
      },
      "execution_count": null,
      "outputs": []
    },
    {
      "cell_type": "code",
      "source": [
        "%%bash\n",
        "\n",
        "cd aml23-ego\n",
        "\n",
        "python pair_frames_timestamps.py frames_dir=./S04/frames \\\n",
        "  video=/PG5 \\\n",
        "  timestamps_file=/PG5/timestamps.txt \\\n",
        "  output_file=PG5_frames_timestamps.pkl"
      ],
      "metadata": {
        "id": "wc34rREGgxgr"
      },
      "execution_count": null,
      "outputs": []
    },
    {
      "cell_type": "markdown",
      "source": [
        "## Agreggate left and right arms EMG data & RGB frames"
      ],
      "metadata": {
        "id": "g8dcEAJTJT6_"
      }
    },
    {
      "cell_type": "code",
      "source": [
        "%%bash\n",
        "\n",
        "cd aml23-ego\n",
        "\n",
        "python aggregate_data.py"
      ],
      "metadata": {
        "id": "fg4D_DwlvRXA"
      },
      "execution_count": null,
      "outputs": []
    },
    {
      "cell_type": "markdown",
      "source": [
        "## Split EMG/RGB data into training & testing dataset"
      ],
      "metadata": {
        "id": "nTD7jNTxscOW"
      }
    },
    {
      "cell_type": "code",
      "source": [
        "%%bash\n",
        "\n",
        "cd aml23-ego\n",
        "\n",
        "python split_train_test.py"
      ],
      "metadata": {
        "id": "gINJnLmn_63n"
      },
      "execution_count": null,
      "outputs": []
    },
    {
      "cell_type": "markdown",
      "source": [
        "## Recreate EMG data"
      ],
      "metadata": {
        "id": "CNHw6z9zaMA-"
      }
    },
    {
      "cell_type": "code",
      "source": [
        "%%bash\n",
        "\n",
        "cd aml23-ego\n",
        "\n",
        "python train_autoencoder.py train_file=../drive/MyDrive/train_test/train_data.pkl \\\n",
        "  test_file=../drive/MyDrive/train_test/test_data.pkl"
      ],
      "metadata": {
        "id": "HdSLT-15aLbg"
      },
      "execution_count": null,
      "outputs": []
    }
  ]
}